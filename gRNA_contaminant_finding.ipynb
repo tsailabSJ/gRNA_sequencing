{
 "cells": [
  {
   "cell_type": "code",
   "execution_count": 1,
   "metadata": {
    "execution": {
     "iopub.execute_input": "2023-04-24T04:40:16.362162Z",
     "iopub.status.busy": "2023-04-24T04:40:16.361929Z",
     "iopub.status.idle": "2023-04-24T04:40:21.724037Z",
     "shell.execute_reply": "2023-04-24T04:40:21.723641Z",
     "shell.execute_reply.started": "2023-04-24T04:40:16.362115Z"
    }
   },
   "outputs": [],
   "source": [
    "import glob\n",
    "import pandas as pd"
   ]
  },
  {
   "cell_type": "code",
   "execution_count": 9,
   "metadata": {
    "execution": {
     "iopub.execute_input": "2023-04-24T04:46:56.549141Z",
     "iopub.status.busy": "2023-04-24T04:46:56.548937Z",
     "iopub.status.idle": "2023-04-24T04:46:56.554950Z",
     "shell.execute_reply": "2023-04-24T04:46:56.554625Z",
     "shell.execute_reply.started": "2023-04-24T04:46:56.549125Z"
    },
    "tags": []
   },
   "outputs": [
    {
     "data": {
      "text/plain": [
       "562"
      ]
     },
     "execution_count": 9,
     "metadata": {},
     "output_type": "execute_result"
    }
   ],
   "source": [
    "files = glob.glob(\"VK*_*[A|C|G|T].csv\")\n",
    "len(files)"
   ]
  },
  {
   "cell_type": "code",
   "execution_count": null,
   "metadata": {},
   "outputs": [],
   "source": []
  },
  {
   "cell_type": "code",
   "execution_count": 12,
   "metadata": {
    "execution": {
     "iopub.execute_input": "2023-04-24T04:47:25.753852Z",
     "iopub.status.busy": "2023-04-24T04:47:25.753662Z",
     "iopub.status.idle": "2023-04-24T04:47:28.775005Z",
     "shell.execute_reply": "2023-04-24T04:47:28.774608Z",
     "shell.execute_reply.started": "2023-04-24T04:47:25.753836Z"
    },
    "tags": []
   },
   "outputs": [],
   "source": [
    "def parse_df(x):\n",
    "    df=pd.read_csv(x,sep=\"\\t\")\n",
    "    try:\n",
    "        df = df[['guide_id','chromosome','coordinate_start','coordinate_end','strand','unpadded_target_sequence']]\n",
    "    except:\n",
    "        print (x)\n",
    "        display(df)\n",
    "    df['label'] = x.split(\"_\")[0]\n",
    "    return df\n",
    "\n",
    "df_list = [parse_df(x) for x in files if not \"indel_frequency\" in x]"
   ]
  },
  {
   "cell_type": "code",
   "execution_count": 13,
   "metadata": {
    "execution": {
     "iopub.execute_input": "2023-04-24T04:47:28.775692Z",
     "iopub.status.busy": "2023-04-24T04:47:28.775559Z",
     "iopub.status.idle": "2023-04-24T04:47:28.804570Z",
     "shell.execute_reply": "2023-04-24T04:47:28.804177Z",
     "shell.execute_reply.started": "2023-04-24T04:47:28.775678Z"
    },
    "tags": []
   },
   "outputs": [],
   "source": [
    "df = pd.concat(df_list)"
   ]
  },
  {
   "cell_type": "code",
   "execution_count": 17,
   "metadata": {
    "execution": {
     "iopub.execute_input": "2023-04-24T04:50:32.398712Z",
     "iopub.status.busy": "2023-04-24T04:50:32.398517Z",
     "iopub.status.idle": "2023-04-24T04:50:32.403099Z",
     "shell.execute_reply": "2023-04-24T04:50:32.402764Z",
     "shell.execute_reply.started": "2023-04-24T04:50:32.398697Z"
    },
    "tags": []
   },
   "outputs": [],
   "source": [
    "df['contaminated_gRNA_sequence'] = [x.split(\"_\")[0] for x in df.guide_id]\n",
    "df['contaminated_gRNA_read_count'] = [int(x.split(\"_\")[1]) for x in df.guide_id]\n",
    "df['contaminated_gRNA_length'] = df['contaminated_gRNA_sequence'].str.len()\n"
   ]
  },
  {
   "cell_type": "code",
   "execution_count": 19,
   "metadata": {
    "execution": {
     "iopub.execute_input": "2023-04-24T04:50:57.065118Z",
     "iopub.status.busy": "2023-04-24T04:50:57.064917Z",
     "iopub.status.idle": "2023-04-24T04:50:57.079031Z",
     "shell.execute_reply": "2023-04-24T04:50:57.078696Z",
     "shell.execute_reply.started": "2023-04-24T04:50:57.065103Z"
    },
    "tags": []
   },
   "outputs": [],
   "source": [
    "df.to_csv(\"gRNA_contaminant_analysis.csv\")"
   ]
  },
  {
   "cell_type": "code",
   "execution_count": 20,
   "metadata": {
    "execution": {
     "iopub.execute_input": "2023-04-24T14:10:25.581152Z",
     "iopub.status.busy": "2023-04-24T14:10:25.580953Z",
     "iopub.status.idle": "2023-04-24T14:10:25.585941Z",
     "shell.execute_reply": "2023-04-24T14:10:25.585612Z",
     "shell.execute_reply.started": "2023-04-24T14:10:25.581137Z"
    }
   },
   "outputs": [],
   "source": [
    "def read_fasta_to_list(f):\n",
    "\tmyList = []\n",
    "\tfor r in SeqIO.parse(f, \"fasta\"):\n",
    "\t\tmyList.append(str(r.seq).upper())\n",
    "\treturn myList\t\n",
    "files = glob.glob(\"*FQ2FA.fa\")"
   ]
  },
  {
   "cell_type": "code",
   "execution_count": 21,
   "metadata": {
    "execution": {
     "iopub.execute_input": "2023-04-24T14:10:28.076945Z",
     "iopub.status.busy": "2023-04-24T14:10:28.076758Z",
     "iopub.status.idle": "2023-04-24T14:10:28.081211Z",
     "shell.execute_reply": "2023-04-24T14:10:28.080844Z",
     "shell.execute_reply.started": "2023-04-24T14:10:28.076930Z"
    }
   },
   "outputs": [
    {
     "data": {
      "text/plain": [
       "['VK2341_S3.FQ2FA.fa',\n",
       " 'VK2348_S10.FQ2FA.fa',\n",
       " 'VK2339_S1.FQ2FA.fa',\n",
       " 'VK2340_S2.FQ2FA.fa',\n",
       " 'VK2347_S9.FQ2FA.fa',\n",
       " 'VK2343_S5.FQ2FA.fa',\n",
       " 'VK2346_S8.FQ2FA.fa',\n",
       " 'VK2345_S7.FQ2FA.fa',\n",
       " 'VK2344_S6.FQ2FA.fa',\n",
       " 'VK2342_S4.FQ2FA.fa']"
      ]
     },
     "execution_count": 21,
     "metadata": {},
     "output_type": "execute_result"
    }
   ],
   "source": [
    "files"
   ]
  },
  {
   "cell_type": "code",
   "execution_count": 24,
   "metadata": {
    "execution": {
     "iopub.execute_input": "2023-04-24T14:12:04.978671Z",
     "iopub.status.busy": "2023-04-24T14:12:04.978479Z",
     "iopub.status.idle": "2023-04-24T14:12:19.767574Z",
     "shell.execute_reply": "2023-04-24T14:12:19.767072Z",
     "shell.execute_reply.started": "2023-04-24T14:12:04.978655Z"
    },
    "tags": []
   },
   "outputs": [],
   "source": [
    "from Bio import SeqIO\n",
    "\n",
    "total={}\n",
    "for f in files:\n",
    "    label = f.split(\"_\")[0]\n",
    "    total[label] = len(read_fasta_to_list(f))\n",
    "df['total_reads'] = df.label.map(total)    "
   ]
  },
  {
   "cell_type": "code",
   "execution_count": 25,
   "metadata": {
    "execution": {
     "iopub.execute_input": "2023-04-24T14:12:19.768389Z",
     "iopub.status.busy": "2023-04-24T14:12:19.768250Z",
     "iopub.status.idle": "2023-04-24T14:12:19.779331Z",
     "shell.execute_reply": "2023-04-24T14:12:19.778944Z",
     "shell.execute_reply.started": "2023-04-24T14:12:19.768374Z"
    }
   },
   "outputs": [
    {
     "data": {
      "text/html": [
       "<div>\n",
       "<style scoped>\n",
       "    .dataframe tbody tr th:only-of-type {\n",
       "        vertical-align: middle;\n",
       "    }\n",
       "\n",
       "    .dataframe tbody tr th {\n",
       "        vertical-align: top;\n",
       "    }\n",
       "\n",
       "    .dataframe thead th {\n",
       "        text-align: right;\n",
       "    }\n",
       "</style>\n",
       "<table border=\"1\" class=\"dataframe\">\n",
       "  <thead>\n",
       "    <tr style=\"text-align: right;\">\n",
       "      <th></th>\n",
       "      <th>guide_id</th>\n",
       "      <th>chromosome</th>\n",
       "      <th>coordinate_start</th>\n",
       "      <th>coordinate_end</th>\n",
       "      <th>strand</th>\n",
       "      <th>unpadded_target_sequence</th>\n",
       "      <th>label</th>\n",
       "      <th>contaminated_gRNA_sequence</th>\n",
       "      <th>contaminated_gRNA_length</th>\n",
       "      <th>contaminated_gRNA_read_count</th>\n",
       "      <th>total_reads</th>\n",
       "    </tr>\n",
       "  </thead>\n",
       "  <tbody>\n",
       "    <tr>\n",
       "      <th>0</th>\n",
       "      <td>AGAGTCTCTCAGCTGGTACA_3</td>\n",
       "      <td>chr14</td>\n",
       "      <td>22547529</td>\n",
       "      <td>22547549</td>\n",
       "      <td>-</td>\n",
       "      <td>AGAGTCTCTCAGCTGGTACA</td>\n",
       "      <td>VK2345</td>\n",
       "      <td>AGAGTCTCTCAGCTGGTACA</td>\n",
       "      <td>20</td>\n",
       "      <td>3</td>\n",
       "      <td>331925</td>\n",
       "    </tr>\n",
       "    <tr>\n",
       "      <th>0</th>\n",
       "      <td>GTCAGGGTTCTGGATATCTG_14</td>\n",
       "      <td>chr14</td>\n",
       "      <td>22547502</td>\n",
       "      <td>22547522</td>\n",
       "      <td>-</td>\n",
       "      <td>GTCAGGGTTCTGGATATCTG</td>\n",
       "      <td>VK2348</td>\n",
       "      <td>GTCAGGGTTCTGGATATCTG</td>\n",
       "      <td>20</td>\n",
       "      <td>14</td>\n",
       "      <td>729987</td>\n",
       "    </tr>\n",
       "    <tr>\n",
       "      <th>0</th>\n",
       "      <td>CTTGTCAAGGCTATTGGTCA_4</td>\n",
       "      <td>chr11</td>\n",
       "      <td>5249955</td>\n",
       "      <td>5249975</td>\n",
       "      <td>+</td>\n",
       "      <td>CTTGTCAAGGCTATTGGTCA</td>\n",
       "      <td>VK2341</td>\n",
       "      <td>CTTGTCAAGGCTATTGGTCA</td>\n",
       "      <td>20</td>\n",
       "      <td>4</td>\n",
       "      <td>152217</td>\n",
       "    </tr>\n",
       "    <tr>\n",
       "      <th>1</th>\n",
       "      <td>CTTGTCAAGGCTATTGGTCA_4</td>\n",
       "      <td>chr11</td>\n",
       "      <td>5254879</td>\n",
       "      <td>5254899</td>\n",
       "      <td>+</td>\n",
       "      <td>CTTGTCAAGGCTATTGGTCA</td>\n",
       "      <td>VK2341</td>\n",
       "      <td>CTTGTCAAGGCTATTGGTCA</td>\n",
       "      <td>20</td>\n",
       "      <td>4</td>\n",
       "      <td>152217</td>\n",
       "    </tr>\n",
       "    <tr>\n",
       "      <th>0</th>\n",
       "      <td>CTTGTCAAGGCTATTGGTCA_12</td>\n",
       "      <td>chr11</td>\n",
       "      <td>5249955</td>\n",
       "      <td>5249975</td>\n",
       "      <td>+</td>\n",
       "      <td>CTTGTCAAGGCTATTGGTCA</td>\n",
       "      <td>VK2348</td>\n",
       "      <td>CTTGTCAAGGCTATTGGTCA</td>\n",
       "      <td>20</td>\n",
       "      <td>12</td>\n",
       "      <td>729987</td>\n",
       "    </tr>\n",
       "  </tbody>\n",
       "</table>\n",
       "</div>"
      ],
      "text/plain": [
       "                  guide_id chromosome coordinate_start coordinate_end strand  \\\n",
       "0   AGAGTCTCTCAGCTGGTACA_3      chr14         22547529       22547549      -   \n",
       "0  GTCAGGGTTCTGGATATCTG_14      chr14         22547502       22547522      -   \n",
       "0   CTTGTCAAGGCTATTGGTCA_4      chr11          5249955        5249975      +   \n",
       "1   CTTGTCAAGGCTATTGGTCA_4      chr11          5254879        5254899      +   \n",
       "0  CTTGTCAAGGCTATTGGTCA_12      chr11          5249955        5249975      +   \n",
       "\n",
       "  unpadded_target_sequence   label contaminated_gRNA_sequence  \\\n",
       "0     AGAGTCTCTCAGCTGGTACA  VK2345       AGAGTCTCTCAGCTGGTACA   \n",
       "0     GTCAGGGTTCTGGATATCTG  VK2348       GTCAGGGTTCTGGATATCTG   \n",
       "0     CTTGTCAAGGCTATTGGTCA  VK2341       CTTGTCAAGGCTATTGGTCA   \n",
       "1     CTTGTCAAGGCTATTGGTCA  VK2341       CTTGTCAAGGCTATTGGTCA   \n",
       "0     CTTGTCAAGGCTATTGGTCA  VK2348       CTTGTCAAGGCTATTGGTCA   \n",
       "\n",
       "   contaminated_gRNA_length  contaminated_gRNA_read_count  total_reads  \n",
       "0                        20                             3       331925  \n",
       "0                        20                            14       729987  \n",
       "0                        20                             4       152217  \n",
       "1                        20                             4       152217  \n",
       "0                        20                            12       729987  "
      ]
     },
     "execution_count": 25,
     "metadata": {},
     "output_type": "execute_result"
    }
   ],
   "source": [
    "df.head()"
   ]
  },
  {
   "cell_type": "code",
   "execution_count": 26,
   "metadata": {
    "execution": {
     "iopub.execute_input": "2023-04-24T14:13:20.847109Z",
     "iopub.status.busy": "2023-04-24T14:13:20.846907Z",
     "iopub.status.idle": "2023-04-24T14:13:20.850835Z",
     "shell.execute_reply": "2023-04-24T14:13:20.850498Z",
     "shell.execute_reply.started": "2023-04-24T14:13:20.847093Z"
    }
   },
   "outputs": [],
   "source": [
    "df['%Reads'] = df.contaminated_gRNA_read_count/df.total_reads*100"
   ]
  },
  {
   "cell_type": "code",
   "execution_count": 27,
   "metadata": {
    "execution": {
     "iopub.execute_input": "2023-04-24T14:13:22.546712Z",
     "iopub.status.busy": "2023-04-24T14:13:22.546525Z",
     "iopub.status.idle": "2023-04-24T14:13:22.555957Z",
     "shell.execute_reply": "2023-04-24T14:13:22.555632Z",
     "shell.execute_reply.started": "2023-04-24T14:13:22.546697Z"
    }
   },
   "outputs": [
    {
     "data": {
      "text/html": [
       "<div>\n",
       "<style scoped>\n",
       "    .dataframe tbody tr th:only-of-type {\n",
       "        vertical-align: middle;\n",
       "    }\n",
       "\n",
       "    .dataframe tbody tr th {\n",
       "        vertical-align: top;\n",
       "    }\n",
       "\n",
       "    .dataframe thead th {\n",
       "        text-align: right;\n",
       "    }\n",
       "</style>\n",
       "<table border=\"1\" class=\"dataframe\">\n",
       "  <thead>\n",
       "    <tr style=\"text-align: right;\">\n",
       "      <th></th>\n",
       "      <th>guide_id</th>\n",
       "      <th>chromosome</th>\n",
       "      <th>coordinate_start</th>\n",
       "      <th>coordinate_end</th>\n",
       "      <th>strand</th>\n",
       "      <th>unpadded_target_sequence</th>\n",
       "      <th>label</th>\n",
       "      <th>contaminated_gRNA_sequence</th>\n",
       "      <th>contaminated_gRNA_length</th>\n",
       "      <th>contaminated_gRNA_read_count</th>\n",
       "      <th>total_reads</th>\n",
       "      <th>%Reads</th>\n",
       "    </tr>\n",
       "  </thead>\n",
       "  <tbody>\n",
       "    <tr>\n",
       "      <th>0</th>\n",
       "      <td>AGAGTCTCTCAGCTGGTACA_3</td>\n",
       "      <td>chr14</td>\n",
       "      <td>22547529</td>\n",
       "      <td>22547549</td>\n",
       "      <td>-</td>\n",
       "      <td>AGAGTCTCTCAGCTGGTACA</td>\n",
       "      <td>VK2345</td>\n",
       "      <td>AGAGTCTCTCAGCTGGTACA</td>\n",
       "      <td>20</td>\n",
       "      <td>3</td>\n",
       "      <td>331925</td>\n",
       "      <td>0.000904</td>\n",
       "    </tr>\n",
       "    <tr>\n",
       "      <th>0</th>\n",
       "      <td>GTCAGGGTTCTGGATATCTG_14</td>\n",
       "      <td>chr14</td>\n",
       "      <td>22547502</td>\n",
       "      <td>22547522</td>\n",
       "      <td>-</td>\n",
       "      <td>GTCAGGGTTCTGGATATCTG</td>\n",
       "      <td>VK2348</td>\n",
       "      <td>GTCAGGGTTCTGGATATCTG</td>\n",
       "      <td>20</td>\n",
       "      <td>14</td>\n",
       "      <td>729987</td>\n",
       "      <td>0.001918</td>\n",
       "    </tr>\n",
       "    <tr>\n",
       "      <th>0</th>\n",
       "      <td>CTTGTCAAGGCTATTGGTCA_4</td>\n",
       "      <td>chr11</td>\n",
       "      <td>5249955</td>\n",
       "      <td>5249975</td>\n",
       "      <td>+</td>\n",
       "      <td>CTTGTCAAGGCTATTGGTCA</td>\n",
       "      <td>VK2341</td>\n",
       "      <td>CTTGTCAAGGCTATTGGTCA</td>\n",
       "      <td>20</td>\n",
       "      <td>4</td>\n",
       "      <td>152217</td>\n",
       "      <td>0.002628</td>\n",
       "    </tr>\n",
       "    <tr>\n",
       "      <th>1</th>\n",
       "      <td>CTTGTCAAGGCTATTGGTCA_4</td>\n",
       "      <td>chr11</td>\n",
       "      <td>5254879</td>\n",
       "      <td>5254899</td>\n",
       "      <td>+</td>\n",
       "      <td>CTTGTCAAGGCTATTGGTCA</td>\n",
       "      <td>VK2341</td>\n",
       "      <td>CTTGTCAAGGCTATTGGTCA</td>\n",
       "      <td>20</td>\n",
       "      <td>4</td>\n",
       "      <td>152217</td>\n",
       "      <td>0.002628</td>\n",
       "    </tr>\n",
       "    <tr>\n",
       "      <th>0</th>\n",
       "      <td>CTTGTCAAGGCTATTGGTCA_12</td>\n",
       "      <td>chr11</td>\n",
       "      <td>5249955</td>\n",
       "      <td>5249975</td>\n",
       "      <td>+</td>\n",
       "      <td>CTTGTCAAGGCTATTGGTCA</td>\n",
       "      <td>VK2348</td>\n",
       "      <td>CTTGTCAAGGCTATTGGTCA</td>\n",
       "      <td>20</td>\n",
       "      <td>12</td>\n",
       "      <td>729987</td>\n",
       "      <td>0.001644</td>\n",
       "    </tr>\n",
       "  </tbody>\n",
       "</table>\n",
       "</div>"
      ],
      "text/plain": [
       "                  guide_id chromosome coordinate_start coordinate_end strand  \\\n",
       "0   AGAGTCTCTCAGCTGGTACA_3      chr14         22547529       22547549      -   \n",
       "0  GTCAGGGTTCTGGATATCTG_14      chr14         22547502       22547522      -   \n",
       "0   CTTGTCAAGGCTATTGGTCA_4      chr11          5249955        5249975      +   \n",
       "1   CTTGTCAAGGCTATTGGTCA_4      chr11          5254879        5254899      +   \n",
       "0  CTTGTCAAGGCTATTGGTCA_12      chr11          5249955        5249975      +   \n",
       "\n",
       "  unpadded_target_sequence   label contaminated_gRNA_sequence  \\\n",
       "0     AGAGTCTCTCAGCTGGTACA  VK2345       AGAGTCTCTCAGCTGGTACA   \n",
       "0     GTCAGGGTTCTGGATATCTG  VK2348       GTCAGGGTTCTGGATATCTG   \n",
       "0     CTTGTCAAGGCTATTGGTCA  VK2341       CTTGTCAAGGCTATTGGTCA   \n",
       "1     CTTGTCAAGGCTATTGGTCA  VK2341       CTTGTCAAGGCTATTGGTCA   \n",
       "0     CTTGTCAAGGCTATTGGTCA  VK2348       CTTGTCAAGGCTATTGGTCA   \n",
       "\n",
       "   contaminated_gRNA_length  contaminated_gRNA_read_count  total_reads  \\\n",
       "0                        20                             3       331925   \n",
       "0                        20                            14       729987   \n",
       "0                        20                             4       152217   \n",
       "1                        20                             4       152217   \n",
       "0                        20                            12       729987   \n",
       "\n",
       "     %Reads  \n",
       "0  0.000904  \n",
       "0  0.001918  \n",
       "0  0.002628  \n",
       "1  0.002628  \n",
       "0  0.001644  "
      ]
     },
     "execution_count": 27,
     "metadata": {},
     "output_type": "execute_result"
    }
   ],
   "source": [
    "df.head()"
   ]
  },
  {
   "cell_type": "code",
   "execution_count": 28,
   "metadata": {
    "execution": {
     "iopub.execute_input": "2023-04-24T14:13:32.783623Z",
     "iopub.status.busy": "2023-04-24T14:13:32.783433Z",
     "iopub.status.idle": "2023-04-24T14:13:32.805238Z",
     "shell.execute_reply": "2023-04-24T14:13:32.804893Z",
     "shell.execute_reply.started": "2023-04-24T14:13:32.783607Z"
    }
   },
   "outputs": [],
   "source": [
    "df = df[df.columns[1:]]"
   ]
  },
  {
   "cell_type": "code",
   "execution_count": 29,
   "metadata": {
    "execution": {
     "iopub.execute_input": "2023-04-24T14:13:35.761331Z",
     "iopub.status.busy": "2023-04-24T14:13:35.761141Z",
     "iopub.status.idle": "2023-04-24T14:13:35.770249Z",
     "shell.execute_reply": "2023-04-24T14:13:35.769902Z",
     "shell.execute_reply.started": "2023-04-24T14:13:35.761315Z"
    }
   },
   "outputs": [
    {
     "data": {
      "text/html": [
       "<div>\n",
       "<style scoped>\n",
       "    .dataframe tbody tr th:only-of-type {\n",
       "        vertical-align: middle;\n",
       "    }\n",
       "\n",
       "    .dataframe tbody tr th {\n",
       "        vertical-align: top;\n",
       "    }\n",
       "\n",
       "    .dataframe thead th {\n",
       "        text-align: right;\n",
       "    }\n",
       "</style>\n",
       "<table border=\"1\" class=\"dataframe\">\n",
       "  <thead>\n",
       "    <tr style=\"text-align: right;\">\n",
       "      <th></th>\n",
       "      <th>chromosome</th>\n",
       "      <th>coordinate_start</th>\n",
       "      <th>coordinate_end</th>\n",
       "      <th>strand</th>\n",
       "      <th>unpadded_target_sequence</th>\n",
       "      <th>label</th>\n",
       "      <th>contaminated_gRNA_sequence</th>\n",
       "      <th>contaminated_gRNA_length</th>\n",
       "      <th>contaminated_gRNA_read_count</th>\n",
       "      <th>total_reads</th>\n",
       "      <th>%Reads</th>\n",
       "    </tr>\n",
       "  </thead>\n",
       "  <tbody>\n",
       "    <tr>\n",
       "      <th>0</th>\n",
       "      <td>chr14</td>\n",
       "      <td>22547529</td>\n",
       "      <td>22547549</td>\n",
       "      <td>-</td>\n",
       "      <td>AGAGTCTCTCAGCTGGTACA</td>\n",
       "      <td>VK2345</td>\n",
       "      <td>AGAGTCTCTCAGCTGGTACA</td>\n",
       "      <td>20</td>\n",
       "      <td>3</td>\n",
       "      <td>331925</td>\n",
       "      <td>0.000904</td>\n",
       "    </tr>\n",
       "    <tr>\n",
       "      <th>0</th>\n",
       "      <td>chr14</td>\n",
       "      <td>22547502</td>\n",
       "      <td>22547522</td>\n",
       "      <td>-</td>\n",
       "      <td>GTCAGGGTTCTGGATATCTG</td>\n",
       "      <td>VK2348</td>\n",
       "      <td>GTCAGGGTTCTGGATATCTG</td>\n",
       "      <td>20</td>\n",
       "      <td>14</td>\n",
       "      <td>729987</td>\n",
       "      <td>0.001918</td>\n",
       "    </tr>\n",
       "    <tr>\n",
       "      <th>0</th>\n",
       "      <td>chr11</td>\n",
       "      <td>5249955</td>\n",
       "      <td>5249975</td>\n",
       "      <td>+</td>\n",
       "      <td>CTTGTCAAGGCTATTGGTCA</td>\n",
       "      <td>VK2341</td>\n",
       "      <td>CTTGTCAAGGCTATTGGTCA</td>\n",
       "      <td>20</td>\n",
       "      <td>4</td>\n",
       "      <td>152217</td>\n",
       "      <td>0.002628</td>\n",
       "    </tr>\n",
       "    <tr>\n",
       "      <th>1</th>\n",
       "      <td>chr11</td>\n",
       "      <td>5254879</td>\n",
       "      <td>5254899</td>\n",
       "      <td>+</td>\n",
       "      <td>CTTGTCAAGGCTATTGGTCA</td>\n",
       "      <td>VK2341</td>\n",
       "      <td>CTTGTCAAGGCTATTGGTCA</td>\n",
       "      <td>20</td>\n",
       "      <td>4</td>\n",
       "      <td>152217</td>\n",
       "      <td>0.002628</td>\n",
       "    </tr>\n",
       "    <tr>\n",
       "      <th>0</th>\n",
       "      <td>chr11</td>\n",
       "      <td>5249955</td>\n",
       "      <td>5249975</td>\n",
       "      <td>+</td>\n",
       "      <td>CTTGTCAAGGCTATTGGTCA</td>\n",
       "      <td>VK2348</td>\n",
       "      <td>CTTGTCAAGGCTATTGGTCA</td>\n",
       "      <td>20</td>\n",
       "      <td>12</td>\n",
       "      <td>729987</td>\n",
       "      <td>0.001644</td>\n",
       "    </tr>\n",
       "  </tbody>\n",
       "</table>\n",
       "</div>"
      ],
      "text/plain": [
       "  chromosome coordinate_start coordinate_end strand unpadded_target_sequence  \\\n",
       "0      chr14         22547529       22547549      -     AGAGTCTCTCAGCTGGTACA   \n",
       "0      chr14         22547502       22547522      -     GTCAGGGTTCTGGATATCTG   \n",
       "0      chr11          5249955        5249975      +     CTTGTCAAGGCTATTGGTCA   \n",
       "1      chr11          5254879        5254899      +     CTTGTCAAGGCTATTGGTCA   \n",
       "0      chr11          5249955        5249975      +     CTTGTCAAGGCTATTGGTCA   \n",
       "\n",
       "    label contaminated_gRNA_sequence  contaminated_gRNA_length  \\\n",
       "0  VK2345       AGAGTCTCTCAGCTGGTACA                        20   \n",
       "0  VK2348       GTCAGGGTTCTGGATATCTG                        20   \n",
       "0  VK2341       CTTGTCAAGGCTATTGGTCA                        20   \n",
       "1  VK2341       CTTGTCAAGGCTATTGGTCA                        20   \n",
       "0  VK2348       CTTGTCAAGGCTATTGGTCA                        20   \n",
       "\n",
       "   contaminated_gRNA_read_count  total_reads    %Reads  \n",
       "0                             3       331925  0.000904  \n",
       "0                            14       729987  0.001918  \n",
       "0                             4       152217  0.002628  \n",
       "1                             4       152217  0.002628  \n",
       "0                            12       729987  0.001644  "
      ]
     },
     "execution_count": 29,
     "metadata": {},
     "output_type": "execute_result"
    }
   ],
   "source": [
    "df.head()"
   ]
  },
  {
   "cell_type": "code",
   "execution_count": 30,
   "metadata": {
    "execution": {
     "iopub.execute_input": "2023-04-24T14:14:05.635390Z",
     "iopub.status.busy": "2023-04-24T14:14:05.635203Z",
     "iopub.status.idle": "2023-04-24T14:14:05.644653Z",
     "shell.execute_reply": "2023-04-24T14:14:05.644326Z",
     "shell.execute_reply.started": "2023-04-24T14:14:05.635375Z"
    }
   },
   "outputs": [],
   "source": [
    "df.to_csv(\"gRNA_contaminant_analysis.csv\",index=False)"
   ]
  },
  {
   "cell_type": "code",
   "execution_count": 32,
   "metadata": {
    "execution": {
     "iopub.execute_input": "2023-04-24T14:43:31.851461Z",
     "iopub.status.busy": "2023-04-24T14:43:31.851268Z",
     "iopub.status.idle": "2023-04-24T14:43:36.728826Z",
     "shell.execute_reply": "2023-04-24T14:43:36.728325Z",
     "shell.execute_reply.started": "2023-04-24T14:43:31.851445Z"
    },
    "tags": []
   },
   "outputs": [],
   "source": [
    "import os\n",
    "for i in glob.glob(\"VK*_*[A|C|G|T].csv\"):\n",
    "    os.system(f\"mv {i} log_files\")"
   ]
  },
  {
   "cell_type": "code",
   "execution_count": 36,
   "metadata": {
    "execution": {
     "iopub.execute_input": "2023-04-24T16:43:57.708547Z",
     "iopub.status.busy": "2023-04-24T16:43:57.708341Z",
     "iopub.status.idle": "2023-04-24T16:43:57.715287Z",
     "shell.execute_reply": "2023-04-24T16:43:57.714895Z",
     "shell.execute_reply.started": "2023-04-24T16:43:57.708530Z"
    },
    "tags": []
   },
   "outputs": [],
   "source": [
    "df.to_csv(\"gRNA_contaminant_analysis.bed\",index=False,header=False,sep=\"\\t\")"
   ]
  },
  {
   "cell_type": "code",
   "execution_count": 38,
   "metadata": {
    "execution": {
     "iopub.execute_input": "2023-04-24T16:46:07.804372Z",
     "iopub.status.busy": "2023-04-24T16:46:07.804169Z",
     "iopub.status.idle": "2023-04-24T16:46:07.835565Z",
     "shell.execute_reply": "2023-04-24T16:46:07.835170Z",
     "shell.execute_reply.started": "2023-04-24T16:46:07.804356Z"
    }
   },
   "outputs": [],
   "source": [
    "df2 = df.drop_duplicates(['chromosome','coordinate_start','coordinate_end'])"
   ]
  },
  {
   "cell_type": "code",
   "execution_count": 39,
   "metadata": {
    "execution": {
     "iopub.execute_input": "2023-04-24T16:46:09.710294Z",
     "iopub.status.busy": "2023-04-24T16:46:09.710096Z",
     "iopub.status.idle": "2023-04-24T16:46:09.720319Z",
     "shell.execute_reply": "2023-04-24T16:46:09.719912Z",
     "shell.execute_reply.started": "2023-04-24T16:46:09.710278Z"
    }
   },
   "outputs": [
    {
     "data": {
      "text/html": [
       "<div>\n",
       "<style scoped>\n",
       "    .dataframe tbody tr th:only-of-type {\n",
       "        vertical-align: middle;\n",
       "    }\n",
       "\n",
       "    .dataframe tbody tr th {\n",
       "        vertical-align: top;\n",
       "    }\n",
       "\n",
       "    .dataframe thead th {\n",
       "        text-align: right;\n",
       "    }\n",
       "</style>\n",
       "<table border=\"1\" class=\"dataframe\">\n",
       "  <thead>\n",
       "    <tr style=\"text-align: right;\">\n",
       "      <th></th>\n",
       "      <th>chromosome</th>\n",
       "      <th>coordinate_start</th>\n",
       "      <th>coordinate_end</th>\n",
       "      <th>strand</th>\n",
       "      <th>unpadded_target_sequence</th>\n",
       "      <th>label</th>\n",
       "      <th>contaminated_gRNA_sequence</th>\n",
       "      <th>contaminated_gRNA_length</th>\n",
       "      <th>contaminated_gRNA_read_count</th>\n",
       "      <th>total_reads</th>\n",
       "      <th>%Reads</th>\n",
       "    </tr>\n",
       "  </thead>\n",
       "  <tbody>\n",
       "    <tr>\n",
       "      <th>0</th>\n",
       "      <td>chr14</td>\n",
       "      <td>22547529</td>\n",
       "      <td>22547549</td>\n",
       "      <td>-</td>\n",
       "      <td>AGAGTCTCTCAGCTGGTACA</td>\n",
       "      <td>VK2345</td>\n",
       "      <td>AGAGTCTCTCAGCTGGTACA</td>\n",
       "      <td>20</td>\n",
       "      <td>3</td>\n",
       "      <td>331925</td>\n",
       "      <td>0.000904</td>\n",
       "    </tr>\n",
       "    <tr>\n",
       "      <th>0</th>\n",
       "      <td>chr14</td>\n",
       "      <td>22547502</td>\n",
       "      <td>22547522</td>\n",
       "      <td>-</td>\n",
       "      <td>GTCAGGGTTCTGGATATCTG</td>\n",
       "      <td>VK2348</td>\n",
       "      <td>GTCAGGGTTCTGGATATCTG</td>\n",
       "      <td>20</td>\n",
       "      <td>14</td>\n",
       "      <td>729987</td>\n",
       "      <td>0.001918</td>\n",
       "    </tr>\n",
       "    <tr>\n",
       "      <th>0</th>\n",
       "      <td>chr11</td>\n",
       "      <td>5249955</td>\n",
       "      <td>5249975</td>\n",
       "      <td>+</td>\n",
       "      <td>CTTGTCAAGGCTATTGGTCA</td>\n",
       "      <td>VK2341</td>\n",
       "      <td>CTTGTCAAGGCTATTGGTCA</td>\n",
       "      <td>20</td>\n",
       "      <td>4</td>\n",
       "      <td>152217</td>\n",
       "      <td>0.002628</td>\n",
       "    </tr>\n",
       "    <tr>\n",
       "      <th>1</th>\n",
       "      <td>chr11</td>\n",
       "      <td>5254879</td>\n",
       "      <td>5254899</td>\n",
       "      <td>+</td>\n",
       "      <td>CTTGTCAAGGCTATTGGTCA</td>\n",
       "      <td>VK2341</td>\n",
       "      <td>CTTGTCAAGGCTATTGGTCA</td>\n",
       "      <td>20</td>\n",
       "      <td>4</td>\n",
       "      <td>152217</td>\n",
       "      <td>0.002628</td>\n",
       "    </tr>\n",
       "    <tr>\n",
       "      <th>0</th>\n",
       "      <td>chr14</td>\n",
       "      <td>22547575</td>\n",
       "      <td>22547595</td>\n",
       "      <td>-</td>\n",
       "      <td>GAGAATCAAAATCGGTGAAT</td>\n",
       "      <td>VK2343</td>\n",
       "      <td>GAGAATCAAAATCGGTGAAT</td>\n",
       "      <td>20</td>\n",
       "      <td>13</td>\n",
       "      <td>215446</td>\n",
       "      <td>0.006034</td>\n",
       "    </tr>\n",
       "  </tbody>\n",
       "</table>\n",
       "</div>"
      ],
      "text/plain": [
       "  chromosome coordinate_start coordinate_end strand unpadded_target_sequence  \\\n",
       "0      chr14         22547529       22547549      -     AGAGTCTCTCAGCTGGTACA   \n",
       "0      chr14         22547502       22547522      -     GTCAGGGTTCTGGATATCTG   \n",
       "0      chr11          5249955        5249975      +     CTTGTCAAGGCTATTGGTCA   \n",
       "1      chr11          5254879        5254899      +     CTTGTCAAGGCTATTGGTCA   \n",
       "0      chr14         22547575       22547595      -     GAGAATCAAAATCGGTGAAT   \n",
       "\n",
       "    label contaminated_gRNA_sequence  contaminated_gRNA_length  \\\n",
       "0  VK2345       AGAGTCTCTCAGCTGGTACA                        20   \n",
       "0  VK2348       GTCAGGGTTCTGGATATCTG                        20   \n",
       "0  VK2341       CTTGTCAAGGCTATTGGTCA                        20   \n",
       "1  VK2341       CTTGTCAAGGCTATTGGTCA                        20   \n",
       "0  VK2343       GAGAATCAAAATCGGTGAAT                        20   \n",
       "\n",
       "   contaminated_gRNA_read_count  total_reads    %Reads  \n",
       "0                             3       331925  0.000904  \n",
       "0                            14       729987  0.001918  \n",
       "0                             4       152217  0.002628  \n",
       "1                             4       152217  0.002628  \n",
       "0                            13       215446  0.006034  "
      ]
     },
     "execution_count": 39,
     "metadata": {},
     "output_type": "execute_result"
    }
   ],
   "source": [
    "df2.head()"
   ]
  },
  {
   "cell_type": "code",
   "execution_count": 40,
   "metadata": {
    "execution": {
     "iopub.execute_input": "2023-04-24T16:47:11.795252Z",
     "iopub.status.busy": "2023-04-24T16:47:11.795054Z",
     "iopub.status.idle": "2023-04-24T16:47:12.402538Z",
     "shell.execute_reply": "2023-04-24T16:47:12.402178Z",
     "shell.execute_reply.started": "2023-04-24T16:47:11.795236Z"
    }
   },
   "outputs": [
    {
     "name": "stderr",
     "output_type": "stream",
     "text": [
      "<ipython-input-40-380fc4cad279>:1: SettingWithCopyWarning: \n",
      "A value is trying to be set on a copy of a slice from a DataFrame.\n",
      "Try using .loc[row_indexer,col_indexer] = value instead\n",
      "\n",
      "See the caveats in the documentation: https://pandas.pydata.org/pandas-docs/stable/user_guide/indexing.html#returning-a-view-versus-a-copy\n",
      "  df2['id'] = df2.chromosome+\"_\"+df2.coordinate_start.astype(str)+\"_\"+df2.coordinate_end.astype(str)\n"
     ]
    }
   ],
   "source": [
    "df2['id'] = df2.chromosome+\"_\"+df2.coordinate_start.astype(str)+\"_\"+df2.coordinate_end.astype(str)\n",
    "df2 = df2[['chromosome','coordinate_start','coordinate_end','id']]"
   ]
  },
  {
   "cell_type": "code",
   "execution_count": 41,
   "metadata": {
    "execution": {
     "iopub.execute_input": "2023-04-24T16:47:20.731666Z",
     "iopub.status.busy": "2023-04-24T16:47:20.731270Z",
     "iopub.status.idle": "2023-04-24T16:47:20.737743Z",
     "shell.execute_reply": "2023-04-24T16:47:20.737307Z",
     "shell.execute_reply.started": "2023-04-24T16:47:20.731650Z"
    },
    "tags": []
   },
   "outputs": [],
   "source": [
    "df2.to_csv(\"gRNA_contaminant_analysis.bed\",index=False,header=False,sep=\"\\t\")"
   ]
  },
  {
   "cell_type": "code",
   "execution_count": 42,
   "metadata": {
    "collapsed": true,
    "execution": {
     "iopub.execute_input": "2023-04-24T16:47:22.381385Z",
     "iopub.status.busy": "2023-04-24T16:47:22.381189Z",
     "iopub.status.idle": "2023-04-24T16:47:49.956786Z",
     "shell.execute_reply": "2023-04-24T16:47:49.956403Z",
     "shell.execute_reply.started": "2023-04-24T16:47:22.381369Z"
    },
    "jupyter": {
     "outputs_hidden": true
    },
    "tags": []
   },
   "outputs": [
    {
     "name": "stderr",
     "output_type": "stream",
     "text": [
      "\n",
      "\tPeak file = gRNA_contaminant_analysis.bed\n",
      "\tGenome = hg38\n",
      "\tOrganism = human\n",
      "\tPeak/BED file conversion summary:\n",
      "\t\tBED/Header formatted lines: 9\n",
      "\t\tpeakfile formatted lines: 0\n",
      "\t\tDuplicated Peak IDs: 0\n",
      "\n",
      "\tPeak File Statistics:\n",
      "\t\tTotal Peaks: 9\n",
      "\t\tRedundant Peak IDs: 0\n",
      "\t\tPeaks lacking information: 0 (need at least 5 columns per peak)\n",
      "\t\tPeaks with misformatted coordinates: 0 (should be integer)\n",
      "\t\tPeaks with misformatted strand: 0 (should be either +/- or 0/1)\n",
      "\n",
      "\tPeak file looks good!\n",
      "\n",
      "\tReading Positions...\n",
      "\t-----------------------\n",
      "\tFinding Closest TSS...\n",
      "\tAnnotating:....\n",
      "\t\tAnnotation\tNumber of peaks\tTotal size (bp)\tLog2 Ratio (obs/exp)\tLogP enrichment (+values depleted)\n",
      "\t\t3UTR\t0.0\t4251273\t-0.092\t0.066\n",
      "\t\tmiRNA\t0.0\t17696\t-0.000\t0.000\n",
      "\t\tncRNA\t0.0\t1315226\t-0.029\t0.020\n",
      "\t\tTTS\t0.0\t5832576\t-0.126\t0.091\n",
      "\t\tpseudo\t0.0\t331309\t-0.007\t0.005\n",
      "\t\tExon\t0.0\t6625804\t-0.142\t0.103\n",
      "\t\tIntron\t1.0\t242919630\t-1.908\t2.851\n",
      "\t\tIntergenic\t6.0\t314083953\t0.306\t-1.088\n",
      "\t\tPromoter\t2.0\t6470232\t4.322\t-5.468\n",
      "\t\t5UTR\t0.0\t514830\t-0.011\t0.008\n",
      "\t\tsnoRNA\t0.0\t2\t-0.000\t0.000\n",
      "\t\tscRNA\t0.0\t97\t-0.000\t0.000\n",
      "\tNOTE: If this part takes more than 2 minutes, there is a good chance\n",
      "\t\tyour machine ran out of memory: consider hitting ctrl+C and rerunning\n",
      "\t\tthe command with \"-noann\"\n",
      "\tTo capture annotation stats in a file, use \"-annStats <filename>\" next time\n",
      "\tAnnotating:....\n",
      "\t\tAnnotation\tNumber of peaks\tTotal size (bp)\tLog2 Ratio (obs/exp)\tLogP enrichment (+values depleted)\n",
      "\t\t3UTR\t0.0\t4251273\t-0.092\t0.066\n",
      "\t\tRetroposon\t0.0\t779043\t-0.017\t0.012\n",
      "\t\tRC?\t0.0\t10695\t-0.000\t0.000\n",
      "\t\tRNA\t0.0\t21698\t-0.000\t0.000\n",
      "\t\tmiRNA\t0.0\t17696\t-0.000\t0.000\n",
      "\t\tncRNA\t0.0\t1315226\t-0.029\t0.020\n",
      "\t\tTTS\t0.0\t5832576\t-0.126\t0.091\n",
      "\t\tLINE\t0.0\t123530037\t-1.774\t2.144\n",
      "\t\tsrpRNA\t0.0\t44576\t-0.001\t0.001\n",
      "\t\tSINE\t0.0\t70082379\t-1.157\t1.153\n",
      "\t\tRC\t0.0\t68122\t-0.002\t0.001\n",
      "\t\ttRNA\t0.0\t16527\t-0.000\t0.000\n",
      "\t\tDNA?\t0.0\t82154\t-0.002\t0.001\n",
      "\t\tpseudo\t0.0\t331309\t-0.007\t0.005\n",
      "\t\tDNA\t0.0\t19246887\t-0.387\t0.302\n",
      "\t\tExon\t0.0\t6625804\t-0.142\t0.103\n",
      "\t\tIntron\t1.0\t128007396\t-0.983\t0.970\n",
      "\t\tIntergenic\t6.0\t140857630\t1.464\t-4.782\n",
      "\t\tPromoter\t2.0\t6470232\t4.323\t-5.470\n",
      "\t\t5UTR\t0.0\t514830\t-0.011\t0.008\n",
      "\t\tsnoRNA\t0.0\t2\t-0.000\t0.000\n",
      "\t\tLTR?\t0.0\t231794\t-0.005\t0.004\n",
      "\t\tscRNA\t0.0\t24076\t-0.001\t0.000\n",
      "\t\tCpG-Island\t0.0\t1582015\t-0.035\t0.024\n",
      "\t\tLow_complexity\t0.0\t1013281\t-0.022\t0.016\n",
      "\t\tLTR\t0.0\t50030623\t-0.884\t0.808\n",
      "\t\tSimple_repeat\t0.0\t6253239\t-0.134\t0.097\n",
      "\t\tsnRNA\t0.0\t53880\t-0.001\t0.001\n",
      "\t\tUnknown\t0.0\t142104\t-0.003\t0.002\n",
      "\t\tSINE?\t0.0\t904\t-0.000\t0.000\n",
      "\t\tSatellite\t0.0\t15375605\t-0.315\t0.241\n",
      "\t\trRNA\t0.0\t28364\t-0.001\t0.000\n",
      "\tCounting Tags in Peaks from each directory...\n",
      "\tOrganism: human\n",
      "\tLoading Gene Informaiton...\n",
      "\tOutputing Annotation File...\n",
      "\tDone annotating peaks file\n",
      "\n"
     ]
    }
   ],
   "source": [
    "%%bash\n",
    "module load homer/4.10\n",
    "annotatePeaks.pl gRNA_contaminant_analysis.bed hg38 > gRNA_contaminant_analysis.annot.tsv\n",
    " "
   ]
  },
  {
   "cell_type": "code",
   "execution_count": 45,
   "metadata": {
    "execution": {
     "iopub.execute_input": "2023-04-24T16:53:45.504779Z",
     "iopub.status.busy": "2023-04-24T16:53:45.504588Z",
     "iopub.status.idle": "2023-04-24T16:53:45.533838Z",
     "shell.execute_reply": "2023-04-24T16:53:45.532035Z",
     "shell.execute_reply.started": "2023-04-24T16:53:45.504763Z"
    },
    "tags": []
   },
   "outputs": [
    {
     "data": {
      "text/html": [
       "<div>\n",
       "<style scoped>\n",
       "    .dataframe tbody tr th:only-of-type {\n",
       "        vertical-align: middle;\n",
       "    }\n",
       "\n",
       "    .dataframe tbody tr th {\n",
       "        vertical-align: top;\n",
       "    }\n",
       "\n",
       "    .dataframe thead th {\n",
       "        text-align: right;\n",
       "    }\n",
       "</style>\n",
       "<table border=\"1\" class=\"dataframe\">\n",
       "  <thead>\n",
       "    <tr style=\"text-align: right;\">\n",
       "      <th></th>\n",
       "      <th>Chr</th>\n",
       "      <th>Start</th>\n",
       "      <th>End</th>\n",
       "      <th>Strand</th>\n",
       "      <th>Peak Score</th>\n",
       "      <th>Focus Ratio/Region Size</th>\n",
       "      <th>Annotation</th>\n",
       "      <th>Detailed Annotation</th>\n",
       "      <th>Distance to TSS</th>\n",
       "      <th>Nearest PromoterID</th>\n",
       "      <th>Entrez ID</th>\n",
       "      <th>Nearest Unigene</th>\n",
       "      <th>Nearest Refseq</th>\n",
       "      <th>Nearest Ensembl</th>\n",
       "      <th>Gene Name</th>\n",
       "      <th>Gene Alias</th>\n",
       "      <th>Gene Description</th>\n",
       "      <th>Gene Type</th>\n",
       "    </tr>\n",
       "    <tr>\n",
       "      <th>PeakID (cmd=annotatePeaks.pl gRNA_contaminant_analysis.bed hg38)</th>\n",
       "      <th></th>\n",
       "      <th></th>\n",
       "      <th></th>\n",
       "      <th></th>\n",
       "      <th></th>\n",
       "      <th></th>\n",
       "      <th></th>\n",
       "      <th></th>\n",
       "      <th></th>\n",
       "      <th></th>\n",
       "      <th></th>\n",
       "      <th></th>\n",
       "      <th></th>\n",
       "      <th></th>\n",
       "      <th></th>\n",
       "      <th></th>\n",
       "      <th></th>\n",
       "      <th></th>\n",
       "    </tr>\n",
       "  </thead>\n",
       "  <tbody>\n",
       "    <tr>\n",
       "      <th>chr5_178783200_178783217</th>\n",
       "      <td>chr5</td>\n",
       "      <td>178783201</td>\n",
       "      <td>178783217</td>\n",
       "      <td>+</td>\n",
       "      <td>0</td>\n",
       "      <td>NaN</td>\n",
       "      <td>intron (NR_135095, intron 4 of 10)</td>\n",
       "      <td>intron (NR_135095, intron 4 of 10)</td>\n",
       "      <td>35226</td>\n",
       "      <td>NR_024035</td>\n",
       "      <td>729522</td>\n",
       "      <td>Hs.382790</td>\n",
       "      <td>NR_024035</td>\n",
       "      <td>ENSG00000250420</td>\n",
       "      <td>AACSP1</td>\n",
       "      <td>AACSL</td>\n",
       "      <td>acetoacetyl-CoA synthetase pseudogene 1</td>\n",
       "      <td>pseudo</td>\n",
       "    </tr>\n",
       "    <tr>\n",
       "      <th>chr11_5254879_5254899</th>\n",
       "      <td>chr11</td>\n",
       "      <td>5254880</td>\n",
       "      <td>5254899</td>\n",
       "      <td>+</td>\n",
       "      <td>0</td>\n",
       "      <td>NaN</td>\n",
       "      <td>promoter-TSS (NM_000184)</td>\n",
       "      <td>promoter-TSS (NM_000184)</td>\n",
       "      <td>-108</td>\n",
       "      <td>NM_000184</td>\n",
       "      <td>3048</td>\n",
       "      <td>Hs.302145</td>\n",
       "      <td>NM_000184</td>\n",
       "      <td>ENSG00000196565</td>\n",
       "      <td>HBG2</td>\n",
       "      <td>HBG-T1|TNCY</td>\n",
       "      <td>hemoglobin subunit gamma 2</td>\n",
       "      <td>protein-coding</td>\n",
       "    </tr>\n",
       "    <tr>\n",
       "      <th>chr14_22547529_22547549</th>\n",
       "      <td>chr14</td>\n",
       "      <td>22547530</td>\n",
       "      <td>22547549</td>\n",
       "      <td>+</td>\n",
       "      <td>0</td>\n",
       "      <td>NaN</td>\n",
       "      <td>Intergenic</td>\n",
       "      <td>Intergenic</td>\n",
       "      <td>9523</td>\n",
       "      <td>NR_146543</td>\n",
       "      <td>105370400</td>\n",
       "      <td>NaN</td>\n",
       "      <td>NR_146543</td>\n",
       "      <td>ENSG00000259054</td>\n",
       "      <td>LINC02332</td>\n",
       "      <td>-</td>\n",
       "      <td>long intergenic non-protein coding RNA 2332</td>\n",
       "      <td>ncRNA</td>\n",
       "    </tr>\n",
       "    <tr>\n",
       "      <th>chr14_22547640_22547660</th>\n",
       "      <td>chr14</td>\n",
       "      <td>22547641</td>\n",
       "      <td>22547660</td>\n",
       "      <td>+</td>\n",
       "      <td>0</td>\n",
       "      <td>NaN</td>\n",
       "      <td>Intergenic</td>\n",
       "      <td>Intergenic</td>\n",
       "      <td>9412</td>\n",
       "      <td>NR_146543</td>\n",
       "      <td>105370400</td>\n",
       "      <td>NaN</td>\n",
       "      <td>NR_146543</td>\n",
       "      <td>ENSG00000259054</td>\n",
       "      <td>LINC02332</td>\n",
       "      <td>-</td>\n",
       "      <td>long intergenic non-protein coding RNA 2332</td>\n",
       "      <td>ncRNA</td>\n",
       "    </tr>\n",
       "    <tr>\n",
       "      <th>chr14_22547575_22547595</th>\n",
       "      <td>chr14</td>\n",
       "      <td>22547576</td>\n",
       "      <td>22547595</td>\n",
       "      <td>+</td>\n",
       "      <td>0</td>\n",
       "      <td>NaN</td>\n",
       "      <td>Intergenic</td>\n",
       "      <td>Intergenic</td>\n",
       "      <td>9477</td>\n",
       "      <td>NR_146543</td>\n",
       "      <td>105370400</td>\n",
       "      <td>NaN</td>\n",
       "      <td>NR_146543</td>\n",
       "      <td>ENSG00000259054</td>\n",
       "      <td>LINC02332</td>\n",
       "      <td>-</td>\n",
       "      <td>long intergenic non-protein coding RNA 2332</td>\n",
       "      <td>ncRNA</td>\n",
       "    </tr>\n",
       "  </tbody>\n",
       "</table>\n",
       "</div>"
      ],
      "text/plain": [
       "                                                      Chr      Start  \\\n",
       "PeakID (cmd=annotatePeaks.pl gRNA_contaminant_a...                     \n",
       "chr5_178783200_178783217                             chr5  178783201   \n",
       "chr11_5254879_5254899                               chr11    5254880   \n",
       "chr14_22547529_22547549                             chr14   22547530   \n",
       "chr14_22547640_22547660                             chr14   22547641   \n",
       "chr14_22547575_22547595                             chr14   22547576   \n",
       "\n",
       "                                                          End Strand  \\\n",
       "PeakID (cmd=annotatePeaks.pl gRNA_contaminant_a...                     \n",
       "chr5_178783200_178783217                            178783217      +   \n",
       "chr11_5254879_5254899                                 5254899      +   \n",
       "chr14_22547529_22547549                              22547549      +   \n",
       "chr14_22547640_22547660                              22547660      +   \n",
       "chr14_22547575_22547595                              22547595      +   \n",
       "\n",
       "                                                    Peak Score  \\\n",
       "PeakID (cmd=annotatePeaks.pl gRNA_contaminant_a...               \n",
       "chr5_178783200_178783217                                     0   \n",
       "chr11_5254879_5254899                                        0   \n",
       "chr14_22547529_22547549                                      0   \n",
       "chr14_22547640_22547660                                      0   \n",
       "chr14_22547575_22547595                                      0   \n",
       "\n",
       "                                                    Focus Ratio/Region Size  \\\n",
       "PeakID (cmd=annotatePeaks.pl gRNA_contaminant_a...                            \n",
       "chr5_178783200_178783217                                                NaN   \n",
       "chr11_5254879_5254899                                                   NaN   \n",
       "chr14_22547529_22547549                                                 NaN   \n",
       "chr14_22547640_22547660                                                 NaN   \n",
       "chr14_22547575_22547595                                                 NaN   \n",
       "\n",
       "                                                                            Annotation  \\\n",
       "PeakID (cmd=annotatePeaks.pl gRNA_contaminant_a...                                       \n",
       "chr5_178783200_178783217                            intron (NR_135095, intron 4 of 10)   \n",
       "chr11_5254879_5254899                                         promoter-TSS (NM_000184)   \n",
       "chr14_22547529_22547549                                                     Intergenic   \n",
       "chr14_22547640_22547660                                                     Intergenic   \n",
       "chr14_22547575_22547595                                                     Intergenic   \n",
       "\n",
       "                                                                   Detailed Annotation  \\\n",
       "PeakID (cmd=annotatePeaks.pl gRNA_contaminant_a...                                       \n",
       "chr5_178783200_178783217                            intron (NR_135095, intron 4 of 10)   \n",
       "chr11_5254879_5254899                                         promoter-TSS (NM_000184)   \n",
       "chr14_22547529_22547549                                                     Intergenic   \n",
       "chr14_22547640_22547660                                                     Intergenic   \n",
       "chr14_22547575_22547595                                                     Intergenic   \n",
       "\n",
       "                                                    Distance to TSS  \\\n",
       "PeakID (cmd=annotatePeaks.pl gRNA_contaminant_a...                    \n",
       "chr5_178783200_178783217                                      35226   \n",
       "chr11_5254879_5254899                                          -108   \n",
       "chr14_22547529_22547549                                        9523   \n",
       "chr14_22547640_22547660                                        9412   \n",
       "chr14_22547575_22547595                                        9477   \n",
       "\n",
       "                                                   Nearest PromoterID  \\\n",
       "PeakID (cmd=annotatePeaks.pl gRNA_contaminant_a...                      \n",
       "chr5_178783200_178783217                                    NR_024035   \n",
       "chr11_5254879_5254899                                       NM_000184   \n",
       "chr14_22547529_22547549                                     NR_146543   \n",
       "chr14_22547640_22547660                                     NR_146543   \n",
       "chr14_22547575_22547595                                     NR_146543   \n",
       "\n",
       "                                                    Entrez ID Nearest Unigene  \\\n",
       "PeakID (cmd=annotatePeaks.pl gRNA_contaminant_a...                              \n",
       "chr5_178783200_178783217                               729522       Hs.382790   \n",
       "chr11_5254879_5254899                                    3048       Hs.302145   \n",
       "chr14_22547529_22547549                             105370400             NaN   \n",
       "chr14_22547640_22547660                             105370400             NaN   \n",
       "chr14_22547575_22547595                             105370400             NaN   \n",
       "\n",
       "                                                   Nearest Refseq  \\\n",
       "PeakID (cmd=annotatePeaks.pl gRNA_contaminant_a...                  \n",
       "chr5_178783200_178783217                                NR_024035   \n",
       "chr11_5254879_5254899                                   NM_000184   \n",
       "chr14_22547529_22547549                                 NR_146543   \n",
       "chr14_22547640_22547660                                 NR_146543   \n",
       "chr14_22547575_22547595                                 NR_146543   \n",
       "\n",
       "                                                    Nearest Ensembl  \\\n",
       "PeakID (cmd=annotatePeaks.pl gRNA_contaminant_a...                    \n",
       "chr5_178783200_178783217                            ENSG00000250420   \n",
       "chr11_5254879_5254899                               ENSG00000196565   \n",
       "chr14_22547529_22547549                             ENSG00000259054   \n",
       "chr14_22547640_22547660                             ENSG00000259054   \n",
       "chr14_22547575_22547595                             ENSG00000259054   \n",
       "\n",
       "                                                    Gene Name   Gene Alias  \\\n",
       "PeakID (cmd=annotatePeaks.pl gRNA_contaminant_a...                           \n",
       "chr5_178783200_178783217                               AACSP1        AACSL   \n",
       "chr11_5254879_5254899                                    HBG2  HBG-T1|TNCY   \n",
       "chr14_22547529_22547549                             LINC02332            -   \n",
       "chr14_22547640_22547660                             LINC02332            -   \n",
       "chr14_22547575_22547595                             LINC02332            -   \n",
       "\n",
       "                                                                               Gene Description  \\\n",
       "PeakID (cmd=annotatePeaks.pl gRNA_contaminant_a...                                                \n",
       "chr5_178783200_178783217                                acetoacetyl-CoA synthetase pseudogene 1   \n",
       "chr11_5254879_5254899                                                hemoglobin subunit gamma 2   \n",
       "chr14_22547529_22547549                             long intergenic non-protein coding RNA 2332   \n",
       "chr14_22547640_22547660                             long intergenic non-protein coding RNA 2332   \n",
       "chr14_22547575_22547595                             long intergenic non-protein coding RNA 2332   \n",
       "\n",
       "                                                         Gene Type  \n",
       "PeakID (cmd=annotatePeaks.pl gRNA_contaminant_a...                  \n",
       "chr5_178783200_178783217                                    pseudo  \n",
       "chr11_5254879_5254899                               protein-coding  \n",
       "chr14_22547529_22547549                                      ncRNA  \n",
       "chr14_22547640_22547660                                      ncRNA  \n",
       "chr14_22547575_22547595                                      ncRNA  "
      ]
     },
     "execution_count": 45,
     "metadata": {},
     "output_type": "execute_result"
    }
   ],
   "source": [
    "df3 = pd.read_csv(\"gRNA_contaminant_analysis.annot.tsv\",sep=\"\\t\",index_col=0)\n",
    "df3.head()"
   ]
  },
  {
   "cell_type": "code",
   "execution_count": 44,
   "metadata": {
    "execution": {
     "iopub.execute_input": "2023-04-24T16:53:31.751462Z",
     "iopub.status.busy": "2023-04-24T16:53:31.751263Z",
     "iopub.status.idle": "2023-04-24T16:53:31.755956Z",
     "shell.execute_reply": "2023-04-24T16:53:31.755529Z",
     "shell.execute_reply.started": "2023-04-24T16:53:31.751446Z"
    }
   },
   "outputs": [
    {
     "data": {
      "text/plain": [
       "(9, 19)"
      ]
     },
     "execution_count": 44,
     "metadata": {},
     "output_type": "execute_result"
    }
   ],
   "source": [
    "df3.shape"
   ]
  },
  {
   "cell_type": "code",
   "execution_count": 46,
   "metadata": {
    "execution": {
     "iopub.execute_input": "2023-04-24T16:54:07.617470Z",
     "iopub.status.busy": "2023-04-24T16:54:07.617269Z",
     "iopub.status.idle": "2023-04-24T16:54:07.621861Z",
     "shell.execute_reply": "2023-04-24T16:54:07.621488Z",
     "shell.execute_reply.started": "2023-04-24T16:54:07.617454Z"
    }
   },
   "outputs": [],
   "source": [
    "df['id'] = df.chromosome+\"_\"+df.coordinate_start.astype(str)+\"_\"+df.coordinate_end.astype(str)\n"
   ]
  },
  {
   "cell_type": "code",
   "execution_count": 48,
   "metadata": {
    "execution": {
     "iopub.execute_input": "2023-04-24T16:55:45.239387Z",
     "iopub.status.busy": "2023-04-24T16:55:45.239193Z",
     "iopub.status.idle": "2023-04-24T16:55:45.256757Z",
     "shell.execute_reply": "2023-04-24T16:55:45.256167Z",
     "shell.execute_reply.started": "2023-04-24T16:55:45.239371Z"
    },
    "tags": []
   },
   "outputs": [],
   "source": [
    "df['Annotation'] = df.id.map(df3['Annotation'].to_dict())\n",
    "df['Detailed Annotation'] = df.id.map(df3['Detailed Annotation'].to_dict())\n",
    "df['Distance to TSS'] = df.id.map(df3['Distance to TSS'].to_dict())\n",
    "df['Nearest Gene Name'] = df.id.map(df3['Gene Name'].to_dict())\n",
    "df['Gene Description'] = df.id.map(df3['Gene Description'].to_dict())\n",
    "df['Gene Type'] = df.id.map(df3['Gene Type'].to_dict())\n"
   ]
  },
  {
   "cell_type": "code",
   "execution_count": 50,
   "metadata": {
    "execution": {
     "iopub.execute_input": "2023-04-24T16:55:58.109161Z",
     "iopub.status.busy": "2023-04-24T16:55:58.108959Z",
     "iopub.status.idle": "2023-04-24T16:55:58.115335Z",
     "shell.execute_reply": "2023-04-24T16:55:58.114924Z",
     "shell.execute_reply.started": "2023-04-24T16:55:58.109146Z"
    },
    "tags": []
   },
   "outputs": [],
   "source": [
    "df.to_csv(\"gRNA_contaminant_analysis.csv\",index=False)"
   ]
  }
 ],
 "metadata": {
  "kernelspec": {
   "display_name": "Python 3",
   "language": "python",
   "name": "python3"
  },
  "language_info": {
   "codemirror_mode": {
    "name": "ipython",
    "version": 3
   },
   "file_extension": ".py",
   "mimetype": "text/x-python",
   "name": "python",
   "nbconvert_exporter": "python",
   "pygments_lexer": "ipython3",
   "version": "3.8.12"
  }
 },
 "nbformat": 4,
 "nbformat_minor": 4
}
