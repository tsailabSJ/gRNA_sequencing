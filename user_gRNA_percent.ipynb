{
 "cells": [
  {
   "cell_type": "code",
   "execution_count": 2,
   "metadata": {
    "execution": {
     "iopub.execute_input": "2023-04-24T14:35:36.489157Z",
     "iopub.status.busy": "2023-04-24T14:35:36.489008Z",
     "iopub.status.idle": "2023-04-24T14:35:36.495413Z",
     "shell.execute_reply": "2023-04-24T14:35:36.495085Z",
     "shell.execute_reply.started": "2023-04-24T14:35:36.489143Z"
    },
    "tags": []
   },
   "outputs": [],
   "source": [
    "import pandas as pd\n",
    "from Bio import SeqIO\n",
    "import glob\n",
    "def read_fasta_to_list(f):\n",
    "\tmyList = []\n",
    "\tfor r in SeqIO.parse(f, \"fasta\"):\n",
    "\t\tmyList.append(str(r.seq).upper())\n",
    "\treturn myList\t\n",
    "def revcomp(seq):\n",
    "\ttry: ## python2\n",
    "\t\ttab = string.maketrans(b\"ACTG\", b\"TGAC\")\n",
    "\texcept:  ## python3\n",
    "\t\ttab = bytes.maketrans(b\"ACTG\", b\"TGAC\")\n",
    "\treturn seq.translate(tab)[::-1]\n",
    "# input=sys.argv[1]\n",
    "# gRNA_list = sys.argv[2]\n",
    "\n",
    "\n",
    "\n",
    "def is_gRNA(seq,gRNA):\n",
    "\tif gRNA in seq:\n",
    "\t\treturn 1\n",
    "\tif revcomp(gRNA) in seq:\n",
    "\t\treturn 1\n",
    "\treturn 0\n",
    "\n",
    "def get_value(input,gRNA_list):\n",
    "\tdf = pd.DataFrame(read_fasta_to_list(input))\n",
    "\tgRNA = pd.read_csv(gRNA_list,sep=\"\\t\",header=None)\n",
    "\tfor i,r in gRNA.iterrows():\n",
    "\t\tdf[r[0]] = [is_gRNA(seq,r[1]) for seq in df[0]]\n",
    "\n",
    "\ttotal = df.shape[0]\n",
    "\tdf2 = df.copy()\n",
    "\tdf2 = df2.drop([0],axis=1)\n",
    "\tdf3 = pd.DataFrame((df2.sum()/total)*100)\n",
    "\tdf3.columns = [f'%Read_{input}']\n",
    "\treturn df3\n"
   ]
  },
  {
   "cell_type": "code",
   "execution_count": 3,
   "metadata": {
    "execution": {
     "iopub.execute_input": "2023-04-24T14:35:59.463760Z",
     "iopub.status.busy": "2023-04-24T14:35:59.463567Z",
     "iopub.status.idle": "2023-04-24T14:36:46.138829Z",
     "shell.execute_reply": "2023-04-24T14:36:46.138447Z",
     "shell.execute_reply.started": "2023-04-24T14:35:59.463744Z"
    }
   },
   "outputs": [
    {
     "data": {
      "text/html": [
       "<div>\n",
       "<style scoped>\n",
       "    .dataframe tbody tr th:only-of-type {\n",
       "        vertical-align: middle;\n",
       "    }\n",
       "\n",
       "    .dataframe tbody tr th {\n",
       "        vertical-align: top;\n",
       "    }\n",
       "\n",
       "    .dataframe thead th {\n",
       "        text-align: right;\n",
       "    }\n",
       "</style>\n",
       "<table border=\"1\" class=\"dataframe\">\n",
       "  <thead>\n",
       "    <tr style=\"text-align: right;\">\n",
       "      <th></th>\n",
       "      <th>%Read_VK2341_S3.FQ2FA.fa</th>\n",
       "      <th>%Read_VK2348_S10.FQ2FA.fa</th>\n",
       "      <th>%Read_VK2339_S1.FQ2FA.fa</th>\n",
       "      <th>%Read_VK2340_S2.FQ2FA.fa</th>\n",
       "      <th>%Read_VK2347_S9.FQ2FA.fa</th>\n",
       "      <th>%Read_VK2343_S5.FQ2FA.fa</th>\n",
       "      <th>%Read_VK2346_S8.FQ2FA.fa</th>\n",
       "      <th>%Read_VK2345_S7.FQ2FA.fa</th>\n",
       "      <th>%Read_VK2344_S6.FQ2FA.fa</th>\n",
       "      <th>%Read_VK2342_S4.FQ2FA.fa</th>\n",
       "    </tr>\n",
       "  </thead>\n",
       "  <tbody>\n",
       "    <tr>\n",
       "      <th>DNMT3A</th>\n",
       "      <td>49.995730</td>\n",
       "      <td>68.276284</td>\n",
       "      <td>2.290076</td>\n",
       "      <td>52.827512</td>\n",
       "      <td>61.450574</td>\n",
       "      <td>64.04157</td>\n",
       "      <td>57.587354</td>\n",
       "      <td>55.676734</td>\n",
       "      <td>1.646264</td>\n",
       "      <td>55.054521</td>\n",
       "    </tr>\n",
       "    <tr>\n",
       "      <th>TRAC1</th>\n",
       "      <td>0.017081</td>\n",
       "      <td>0.017946</td>\n",
       "      <td>0.000000</td>\n",
       "      <td>0.022572</td>\n",
       "      <td>0.021065</td>\n",
       "      <td>0.01671</td>\n",
       "      <td>0.023720</td>\n",
       "      <td>0.028018</td>\n",
       "      <td>0.000000</td>\n",
       "      <td>0.016557</td>\n",
       "    </tr>\n",
       "    <tr>\n",
       "      <th>TRAC_Control</th>\n",
       "      <td>0.000000</td>\n",
       "      <td>0.000137</td>\n",
       "      <td>0.000000</td>\n",
       "      <td>0.000000</td>\n",
       "      <td>0.000000</td>\n",
       "      <td>0.00000</td>\n",
       "      <td>0.000000</td>\n",
       "      <td>0.000301</td>\n",
       "      <td>0.000000</td>\n",
       "      <td>0.000000</td>\n",
       "    </tr>\n",
       "  </tbody>\n",
       "</table>\n",
       "</div>"
      ],
      "text/plain": [
       "              %Read_VK2341_S3.FQ2FA.fa  %Read_VK2348_S10.FQ2FA.fa  \\\n",
       "DNMT3A                       49.995730                  68.276284   \n",
       "TRAC1                         0.017081                   0.017946   \n",
       "TRAC_Control                  0.000000                   0.000137   \n",
       "\n",
       "              %Read_VK2339_S1.FQ2FA.fa  %Read_VK2340_S2.FQ2FA.fa  \\\n",
       "DNMT3A                        2.290076                 52.827512   \n",
       "TRAC1                         0.000000                  0.022572   \n",
       "TRAC_Control                  0.000000                  0.000000   \n",
       "\n",
       "              %Read_VK2347_S9.FQ2FA.fa  %Read_VK2343_S5.FQ2FA.fa  \\\n",
       "DNMT3A                       61.450574                  64.04157   \n",
       "TRAC1                         0.021065                   0.01671   \n",
       "TRAC_Control                  0.000000                   0.00000   \n",
       "\n",
       "              %Read_VK2346_S8.FQ2FA.fa  %Read_VK2345_S7.FQ2FA.fa  \\\n",
       "DNMT3A                       57.587354                 55.676734   \n",
       "TRAC1                         0.023720                  0.028018   \n",
       "TRAC_Control                  0.000000                  0.000301   \n",
       "\n",
       "              %Read_VK2344_S6.FQ2FA.fa  %Read_VK2342_S4.FQ2FA.fa  \n",
       "DNMT3A                        1.646264                 55.054521  \n",
       "TRAC1                         0.000000                  0.016557  \n",
       "TRAC_Control                  0.000000                  0.000000  "
      ]
     },
     "execution_count": 3,
     "metadata": {},
     "output_type": "execute_result"
    }
   ],
   "source": [
    "files = glob.glob(\"*FQ2FA.fa\")\n",
    "gRNA_file=\"gRNA_to_check.tsv\"\n",
    "df_list = []\n",
    "for f in files:\n",
    "    df_list.append(get_value(f,gRNA_file))\n",
    "df = pd.concat(df_list,axis=1)\n",
    "df"
   ]
  },
  {
   "cell_type": "code",
   "execution_count": 4,
   "metadata": {
    "execution": {
     "iopub.execute_input": "2023-04-24T14:36:46.139582Z",
     "iopub.status.busy": "2023-04-24T14:36:46.139441Z",
     "iopub.status.idle": "2023-04-24T14:36:46.152886Z",
     "shell.execute_reply": "2023-04-24T14:36:46.152540Z",
     "shell.execute_reply.started": "2023-04-24T14:36:46.139567Z"
    }
   },
   "outputs": [],
   "source": [
    "df.to_csv(\"percent_reads_gRNA.csv\")"
   ]
  },
  {
   "cell_type": "code",
   "execution_count": null,
   "metadata": {},
   "outputs": [],
   "source": []
  }
 ],
 "metadata": {
  "kernelspec": {
   "display_name": "Python 3",
   "language": "python",
   "name": "python3"
  },
  "language_info": {
   "codemirror_mode": {
    "name": "ipython",
    "version": 3
   },
   "file_extension": ".py",
   "mimetype": "text/x-python",
   "name": "python",
   "nbconvert_exporter": "python",
   "pygments_lexer": "ipython3",
   "version": "3.8.12"
  }
 },
 "nbformat": 4,
 "nbformat_minor": 4
}
